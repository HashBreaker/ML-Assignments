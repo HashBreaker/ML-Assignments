{
 "cells": [
  {
   "cell_type": "code",
   "execution_count": 2,
   "id": "a0555bce",
   "metadata": {},
   "outputs": [
    {
     "name": "stdout",
     "output_type": "stream",
     "text": [
      "3.141592653589793\n"
     ]
    }
   ],
   "source": [
    "from scipy import constants\n",
    "print(constants.pi)\n"
   ]
  },
  {
   "cell_type": "code",
   "execution_count": 4,
   "id": "1b023548",
   "metadata": {},
   "outputs": [
    {
     "name": "stdout",
     "output_type": "stream",
     "text": [
      "[-0.73908513]\n"
     ]
    }
   ],
   "source": [
    "from scipy.optimize import root\n",
    "from math import cos\n",
    "def eqn(x):\n",
    "    return x + cos(x)\n",
    "myroot = root(eqn, 0)\n",
    "print(myroot.x)\n"
   ]
  },
  {
   "cell_type": "code",
   "execution_count": 5,
   "id": "83bd742c",
   "metadata": {},
   "outputs": [
    {
     "name": "stdout",
     "output_type": "stream",
     "text": [
      "(1, array([0, 0, 0]))\n"
     ]
    }
   ],
   "source": [
    "import numpy as np\n",
    "from scipy.sparse.csgraph import connected_components\n",
    "from scipy.sparse import csr_matrix\n",
    "arr = np.array([\n",
    "[0, 1, 2],\n",
    "[1, 0, 0],\n",
    "[2, 0, 0]\n",
    "])\n",
    "newarr = csr_matrix(arr)\n",
    "print(connected_components(newarr))"
   ]
  },
  {
   "cell_type": "code",
   "execution_count": 8,
   "id": "894cb3e4",
   "metadata": {},
   "outputs": [
    {
     "data": {
      "text/plain": [
       "array([[0.56716418, 0.9047619 ],\n",
       "       [0.        , 0.        ],\n",
       "       [0.20895522, 0.77380952],\n",
       "       [0.82089552, 1.        ],\n",
       "       [0.85074627, 0.11904762],\n",
       "       [0.85074627, 0.38095238],\n",
       "       [0.56716418, 0.97619048],\n",
       "       [1.        , 0.32142857],\n",
       "       [0.37313433, 0.01190476],\n",
       "       [0.47761194, 0.52380952]])"
      ]
     },
     "execution_count": 8,
     "metadata": {},
     "output_type": "execute_result"
    }
   ],
   "source": [
    "import numpy as np\n",
    "from sklearn.preprocessing import MinMaxScaler\n",
    "demoData = np.random.randint(10, 100, (10 ,2))\n",
    "demoData\n",
    "scalar_model = MinMaxScaler()\n",
    "scalar_model.fit_transform(demoData)\n"
   ]
  },
  {
   "cell_type": "code",
   "execution_count": 10,
   "id": "218f8cca",
   "metadata": {},
   "outputs": [
    {
     "data": {
      "text/plain": [
       "array([[ 77, 479, 124,  52],\n",
       "       [483, 312, 469, 308],\n",
       "       [ 60, 472, 447,  17],\n",
       "       [421, 110,  37, 392],\n",
       "       [225,   5,  85, 370],\n",
       "       [139, 315, 122,  14],\n",
       "       [353, 444, 378, 440],\n",
       "       [151, 353, 358, 193],\n",
       "       [ 46, 496,  59, 384],\n",
       "       [458,  80, 194, 105],\n",
       "       [364, 380, 492, 233],\n",
       "       [161, 261, 363,  91],\n",
       "       [344, 361,   3, 168],\n",
       "       [176, 344, 190,  82],\n",
       "       [ 50, 180, 134, 144],\n",
       "       [ 76, 302, 400, 245],\n",
       "       [ 39, 160, 290, 372],\n",
       "       [162, 374, 184, 292],\n",
       "       [168, 327, 494,  31],\n",
       "       [311, 281, 394, 354]])"
      ]
     },
     "execution_count": 10,
     "metadata": {},
     "output_type": "execute_result"
    }
   ],
   "source": [
    "import numpy as np\n",
    "from sklearn.preprocessing import MinMaxScaler\n",
    "demoData = np.random.randint(1, 500, (20 ,4))\n",
    "demoData"
   ]
  },
  {
   "cell_type": "code",
   "execution_count": null,
   "id": "1b49a68e",
   "metadata": {},
   "outputs": [],
   "source": []
  },
  {
   "cell_type": "code",
   "execution_count": null,
   "id": "2163952a",
   "metadata": {},
   "outputs": [],
   "source": []
  }
 ],
 "metadata": {
  "kernelspec": {
   "display_name": "Python 3",
   "language": "python",
   "name": "python3"
  },
  "language_info": {
   "codemirror_mode": {
    "name": "ipython",
    "version": 3
   },
   "file_extension": ".py",
   "mimetype": "text/x-python",
   "name": "python",
   "nbconvert_exporter": "python",
   "pygments_lexer": "ipython3",
   "version": "3.8.8"
  }
 },
 "nbformat": 4,
 "nbformat_minor": 5
}
