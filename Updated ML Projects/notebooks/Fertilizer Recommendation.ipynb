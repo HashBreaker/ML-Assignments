{
 "cells": [
  {
   "cell_type": "markdown",
   "id": "ea91812f",
   "metadata": {
    "papermill": {
     "duration": 0.030485,
     "end_time": "2021-07-08T07:21:04.904695",
     "exception": false,
     "start_time": "2021-07-08T07:21:04.874210",
     "status": "completed"
    },
    "tags": []
   },
   "source": [
    "## Fertilizer Prediction\n",
    "\n",
    "* Attributes Description\n",
    "\n",
    "Variable | Description\n",
    "--------------|-----------\n",
    "Temperature | Temperature in degree Celsius\n",
    "Humidity | Relative humidity in %\n",
    "Moisture |  Ratio of the mass of water\n",
    "Soil Type | Types of Soils\n",
    "Crop Type | Type of Crops\n",
    "Nitrogen | Amount(%) of Nitrogen in Soil \n",
    "Potassium | Amount(%) of Potassium in Soil\n",
    "Phosphorous | Amount(%) of Phosphorous in Soil\n",
    "Fertilizer Name | Various types of Fertilizers used for different types of Soils & Crops\n"
   ]
  },
  {
   "cell_type": "markdown",
   "id": "bb3b2382",
   "metadata": {
    "papermill": {
     "duration": 0.028955,
     "end_time": "2021-07-08T07:21:04.965107",
     "exception": false,
     "start_time": "2021-07-08T07:21:04.936152",
     "status": "completed"
    },
    "tags": []
   },
   "source": [
    "### Importing the Libraries"
   ]
  },
  {
   "cell_type": "code",
   "execution_count": 1,
   "id": "5c27ce72",
   "metadata": {
    "execution": {
     "iopub.execute_input": "2021-07-08T07:21:05.029074Z",
     "iopub.status.busy": "2021-07-08T07:21:05.028028Z",
     "iopub.status.idle": "2021-07-08T07:21:06.003389Z",
     "shell.execute_reply": "2021-07-08T07:21:06.003893Z",
     "shell.execute_reply.started": "2021-07-08T07:20:17.026228Z"
    },
    "papermill": {
     "duration": 1.01042,
     "end_time": "2021-07-08T07:21:06.004202",
     "exception": false,
     "start_time": "2021-07-08T07:21:04.993782",
     "status": "completed"
    },
    "tags": []
   },
   "outputs": [],
   "source": [
    "import numpy as np\n",
    "import pandas as pd\n",
    "import seaborn as sns\n",
    "import matplotlib.pyplot as plt\n",
    "import warnings\n",
    "warnings.filterwarnings('ignore')"
   ]
  },
  {
   "cell_type": "markdown",
   "id": "ece69d44",
   "metadata": {
    "papermill": {
     "duration": 0.028186,
     "end_time": "2021-07-08T07:21:06.060834",
     "exception": false,
     "start_time": "2021-07-08T07:21:06.032648",
     "status": "completed"
    },
    "tags": []
   },
   "source": [
    "### Importing the Dataset"
   ]
  },
  {
   "cell_type": "code",
   "execution_count": 2,
   "id": "f98c1f41",
   "metadata": {
    "execution": {
     "iopub.execute_input": "2021-07-08T07:21:06.120026Z",
     "iopub.status.busy": "2021-07-08T07:21:06.119426Z",
     "iopub.status.idle": "2021-07-08T07:21:06.123747Z",
     "shell.execute_reply": "2021-07-08T07:21:06.123233Z",
     "shell.execute_reply.started": "2021-07-08T07:20:17.038392Z"
    },
    "papermill": {
     "duration": 0.034921,
     "end_time": "2021-07-08T07:21:06.123903",
     "exception": false,
     "start_time": "2021-07-08T07:21:06.088982",
     "status": "completed"
    },
    "tags": []
   },
   "outputs": [],
   "source": [
    "Data_path = \"../raw data/Fertilizer Prediction.csv\""
   ]
  },
  {
   "cell_type": "code",
   "execution_count": 3,
   "id": "f97bd2ca",
   "metadata": {
    "execution": {
     "iopub.execute_input": "2021-07-08T07:21:06.186445Z",
     "iopub.status.busy": "2021-07-08T07:21:06.185860Z",
     "iopub.status.idle": "2021-07-08T07:21:06.223888Z",
     "shell.execute_reply": "2021-07-08T07:21:06.224334Z",
     "shell.execute_reply.started": "2021-07-08T07:20:17.053104Z"
    },
    "papermill": {
     "duration": 0.071496,
     "end_time": "2021-07-08T07:21:06.224525",
     "exception": false,
     "start_time": "2021-07-08T07:21:06.153029",
     "status": "completed"
    },
    "tags": []
   },
   "outputs": [
    {
     "data": {
      "text/html": [
       "<div>\n",
       "<style scoped>\n",
       "    .dataframe tbody tr th:only-of-type {\n",
       "        vertical-align: middle;\n",
       "    }\n",
       "\n",
       "    .dataframe tbody tr th {\n",
       "        vertical-align: top;\n",
       "    }\n",
       "\n",
       "    .dataframe thead th {\n",
       "        text-align: right;\n",
       "    }\n",
       "</style>\n",
       "<table border=\"1\" class=\"dataframe\">\n",
       "  <thead>\n",
       "    <tr style=\"text-align: right;\">\n",
       "      <th></th>\n",
       "      <th>Temparature</th>\n",
       "      <th>Humidity</th>\n",
       "      <th>Moisture</th>\n",
       "      <th>Soil Type</th>\n",
       "      <th>Crop Type</th>\n",
       "      <th>Nitrogen</th>\n",
       "      <th>Potassium</th>\n",
       "      <th>Phosphorous</th>\n",
       "      <th>Fertilizer Name</th>\n",
       "    </tr>\n",
       "  </thead>\n",
       "  <tbody>\n",
       "    <tr>\n",
       "      <th>0</th>\n",
       "      <td>26</td>\n",
       "      <td>52</td>\n",
       "      <td>38</td>\n",
       "      <td>Sandy</td>\n",
       "      <td>Maize</td>\n",
       "      <td>37</td>\n",
       "      <td>0</td>\n",
       "      <td>0</td>\n",
       "      <td>Urea</td>\n",
       "    </tr>\n",
       "    <tr>\n",
       "      <th>1</th>\n",
       "      <td>29</td>\n",
       "      <td>52</td>\n",
       "      <td>45</td>\n",
       "      <td>Loamy</td>\n",
       "      <td>Sugarcane</td>\n",
       "      <td>12</td>\n",
       "      <td>0</td>\n",
       "      <td>36</td>\n",
       "      <td>DAP</td>\n",
       "    </tr>\n",
       "    <tr>\n",
       "      <th>2</th>\n",
       "      <td>34</td>\n",
       "      <td>65</td>\n",
       "      <td>62</td>\n",
       "      <td>Black</td>\n",
       "      <td>Cotton</td>\n",
       "      <td>7</td>\n",
       "      <td>9</td>\n",
       "      <td>30</td>\n",
       "      <td>14-35-14</td>\n",
       "    </tr>\n",
       "    <tr>\n",
       "      <th>3</th>\n",
       "      <td>32</td>\n",
       "      <td>62</td>\n",
       "      <td>34</td>\n",
       "      <td>Red</td>\n",
       "      <td>Tobacco</td>\n",
       "      <td>22</td>\n",
       "      <td>0</td>\n",
       "      <td>20</td>\n",
       "      <td>28-28</td>\n",
       "    </tr>\n",
       "    <tr>\n",
       "      <th>4</th>\n",
       "      <td>28</td>\n",
       "      <td>54</td>\n",
       "      <td>46</td>\n",
       "      <td>Clayey</td>\n",
       "      <td>Paddy</td>\n",
       "      <td>35</td>\n",
       "      <td>0</td>\n",
       "      <td>0</td>\n",
       "      <td>Urea</td>\n",
       "    </tr>\n",
       "  </tbody>\n",
       "</table>\n",
       "</div>"
      ],
      "text/plain": [
       "   Temparature  Humidity   Moisture Soil Type  Crop Type  Nitrogen  Potassium  \\\n",
       "0           26         52        38     Sandy      Maize        37          0   \n",
       "1           29         52        45     Loamy  Sugarcane        12          0   \n",
       "2           34         65        62     Black     Cotton         7          9   \n",
       "3           32         62        34       Red    Tobacco        22          0   \n",
       "4           28         54        46    Clayey      Paddy        35          0   \n",
       "\n",
       "   Phosphorous Fertilizer Name  \n",
       "0            0            Urea  \n",
       "1           36             DAP  \n",
       "2           30        14-35-14  \n",
       "3           20           28-28  \n",
       "4            0            Urea  "
      ]
     },
     "execution_count": 3,
     "metadata": {},
     "output_type": "execute_result"
    }
   ],
   "source": [
    "df = pd.read_csv(Data_path)\n",
    "df.head()"
   ]
  },
  {
   "cell_type": "code",
   "execution_count": 4,
   "id": "6c67b02d",
   "metadata": {
    "execution": {
     "iopub.execute_input": "2021-07-08T07:21:06.299729Z",
     "iopub.status.busy": "2021-07-08T07:21:06.298683Z",
     "iopub.status.idle": "2021-07-08T07:21:06.345197Z",
     "shell.execute_reply": "2021-07-08T07:21:06.344696Z",
     "shell.execute_reply.started": "2021-07-08T07:20:17.087560Z"
    },
    "papermill": {
     "duration": 0.091243,
     "end_time": "2021-07-08T07:21:06.345333",
     "exception": false,
     "start_time": "2021-07-08T07:21:06.254090",
     "status": "completed"
    },
    "tags": []
   },
   "outputs": [
    {
     "data": {
      "text/html": [
       "<div>\n",
       "<style scoped>\n",
       "    .dataframe tbody tr th:only-of-type {\n",
       "        vertical-align: middle;\n",
       "    }\n",
       "\n",
       "    .dataframe tbody tr th {\n",
       "        vertical-align: top;\n",
       "    }\n",
       "\n",
       "    .dataframe thead th {\n",
       "        text-align: right;\n",
       "    }\n",
       "</style>\n",
       "<table border=\"1\" class=\"dataframe\">\n",
       "  <thead>\n",
       "    <tr style=\"text-align: right;\">\n",
       "      <th></th>\n",
       "      <th>Temparature</th>\n",
       "      <th>Humidity</th>\n",
       "      <th>Moisture</th>\n",
       "      <th>Nitrogen</th>\n",
       "      <th>Potassium</th>\n",
       "      <th>Phosphorous</th>\n",
       "    </tr>\n",
       "  </thead>\n",
       "  <tbody>\n",
       "    <tr>\n",
       "      <th>count</th>\n",
       "      <td>99.000000</td>\n",
       "      <td>99.000000</td>\n",
       "      <td>99.000000</td>\n",
       "      <td>99.000000</td>\n",
       "      <td>99.000000</td>\n",
       "      <td>99.000000</td>\n",
       "    </tr>\n",
       "    <tr>\n",
       "      <th>mean</th>\n",
       "      <td>30.282828</td>\n",
       "      <td>59.151515</td>\n",
       "      <td>43.181818</td>\n",
       "      <td>18.909091</td>\n",
       "      <td>3.383838</td>\n",
       "      <td>18.606061</td>\n",
       "    </tr>\n",
       "    <tr>\n",
       "      <th>std</th>\n",
       "      <td>3.502304</td>\n",
       "      <td>5.840331</td>\n",
       "      <td>11.271568</td>\n",
       "      <td>11.599693</td>\n",
       "      <td>5.814667</td>\n",
       "      <td>13.476978</td>\n",
       "    </tr>\n",
       "    <tr>\n",
       "      <th>min</th>\n",
       "      <td>25.000000</td>\n",
       "      <td>50.000000</td>\n",
       "      <td>25.000000</td>\n",
       "      <td>4.000000</td>\n",
       "      <td>0.000000</td>\n",
       "      <td>0.000000</td>\n",
       "    </tr>\n",
       "    <tr>\n",
       "      <th>25%</th>\n",
       "      <td>28.000000</td>\n",
       "      <td>54.000000</td>\n",
       "      <td>34.000000</td>\n",
       "      <td>10.000000</td>\n",
       "      <td>0.000000</td>\n",
       "      <td>9.000000</td>\n",
       "    </tr>\n",
       "    <tr>\n",
       "      <th>50%</th>\n",
       "      <td>30.000000</td>\n",
       "      <td>60.000000</td>\n",
       "      <td>41.000000</td>\n",
       "      <td>13.000000</td>\n",
       "      <td>0.000000</td>\n",
       "      <td>19.000000</td>\n",
       "    </tr>\n",
       "    <tr>\n",
       "      <th>75%</th>\n",
       "      <td>33.000000</td>\n",
       "      <td>64.000000</td>\n",
       "      <td>50.500000</td>\n",
       "      <td>24.000000</td>\n",
       "      <td>7.500000</td>\n",
       "      <td>30.000000</td>\n",
       "    </tr>\n",
       "    <tr>\n",
       "      <th>max</th>\n",
       "      <td>38.000000</td>\n",
       "      <td>72.000000</td>\n",
       "      <td>65.000000</td>\n",
       "      <td>42.000000</td>\n",
       "      <td>19.000000</td>\n",
       "      <td>42.000000</td>\n",
       "    </tr>\n",
       "  </tbody>\n",
       "</table>\n",
       "</div>"
      ],
      "text/plain": [
       "       Temparature  Humidity    Moisture   Nitrogen  Potassium  Phosphorous\n",
       "count    99.000000  99.000000  99.000000  99.000000  99.000000    99.000000\n",
       "mean     30.282828  59.151515  43.181818  18.909091   3.383838    18.606061\n",
       "std       3.502304   5.840331  11.271568  11.599693   5.814667    13.476978\n",
       "min      25.000000  50.000000  25.000000   4.000000   0.000000     0.000000\n",
       "25%      28.000000  54.000000  34.000000  10.000000   0.000000     9.000000\n",
       "50%      30.000000  60.000000  41.000000  13.000000   0.000000    19.000000\n",
       "75%      33.000000  64.000000  50.500000  24.000000   7.500000    30.000000\n",
       "max      38.000000  72.000000  65.000000  42.000000  19.000000    42.000000"
      ]
     },
     "execution_count": 4,
     "metadata": {},
     "output_type": "execute_result"
    }
   ],
   "source": [
    "# Statistical info\n",
    "df.describe()"
   ]
  },
  {
   "cell_type": "code",
   "execution_count": 5,
   "id": "5255e6ae",
   "metadata": {
    "execution": {
     "iopub.execute_input": "2021-07-08T07:21:06.424780Z",
     "iopub.status.busy": "2021-07-08T07:21:06.423989Z",
     "iopub.status.idle": "2021-07-08T07:21:06.435396Z",
     "shell.execute_reply": "2021-07-08T07:21:06.435906Z",
     "shell.execute_reply.started": "2021-07-08T07:20:17.117719Z"
    },
    "papermill": {
     "duration": 0.051134,
     "end_time": "2021-07-08T07:21:06.436088",
     "exception": false,
     "start_time": "2021-07-08T07:21:06.384954",
     "status": "completed"
    },
    "tags": []
   },
   "outputs": [
    {
     "name": "stdout",
     "output_type": "stream",
     "text": [
      "<class 'pandas.core.frame.DataFrame'>\n",
      "RangeIndex: 99 entries, 0 to 98\n",
      "Data columns (total 9 columns):\n",
      " #   Column           Non-Null Count  Dtype \n",
      "---  ------           --------------  ----- \n",
      " 0   Temparature      99 non-null     int64 \n",
      " 1   Humidity         99 non-null     int64 \n",
      " 2   Moisture         99 non-null     int64 \n",
      " 3   Soil Type        99 non-null     object\n",
      " 4   Crop Type        99 non-null     object\n",
      " 5   Nitrogen         99 non-null     int64 \n",
      " 6   Potassium        99 non-null     int64 \n",
      " 7   Phosphorous      99 non-null     int64 \n",
      " 8   Fertilizer Name  99 non-null     object\n",
      "dtypes: int64(6), object(3)\n",
      "memory usage: 7.1+ KB\n"
     ]
    }
   ],
   "source": [
    "# Datatypes of Attributes\n",
    "df.info()"
   ]
  },
  {
   "cell_type": "code",
   "execution_count": 6,
   "id": "bb437da6",
   "metadata": {
    "execution": {
     "iopub.execute_input": "2021-07-08T07:21:06.500849Z",
     "iopub.status.busy": "2021-07-08T07:21:06.499895Z",
     "iopub.status.idle": "2021-07-08T07:21:06.509530Z",
     "shell.execute_reply": "2021-07-08T07:21:06.509956Z",
     "shell.execute_reply.started": "2021-07-08T07:20:17.134469Z"
    },
    "papermill": {
     "duration": 0.044442,
     "end_time": "2021-07-08T07:21:06.510128",
     "exception": false,
     "start_time": "2021-07-08T07:21:06.465686",
     "status": "completed"
    },
    "tags": []
   },
   "outputs": [
    {
     "data": {
      "text/plain": [
       "Temparature        14\n",
       "Humidity           13\n",
       "Moisture           41\n",
       "Soil Type           5\n",
       "Crop Type          11\n",
       "Nitrogen           24\n",
       "Potassium          13\n",
       "Phosphorous        32\n",
       "Fertilizer Name     7\n",
       "dtype: int64"
      ]
     },
     "execution_count": 6,
     "metadata": {},
     "output_type": "execute_result"
    }
   ],
   "source": [
    "# Check the unique values in dataset\n",
    "df.apply(lambda x: len(x.unique()))"
   ]
  },
  {
   "cell_type": "markdown",
   "id": "ce02f534",
   "metadata": {
    "papermill": {
     "duration": 0.029631,
     "end_time": "2021-07-08T07:21:06.570006",
     "exception": false,
     "start_time": "2021-07-08T07:21:06.540375",
     "status": "completed"
    },
    "tags": []
   },
   "source": [
    "### Preprocessing the Dataset"
   ]
  },
  {
   "cell_type": "code",
   "execution_count": 7,
   "id": "592f7ca1",
   "metadata": {
    "execution": {
     "iopub.execute_input": "2021-07-08T07:21:06.633585Z",
     "iopub.status.busy": "2021-07-08T07:21:06.632611Z",
     "iopub.status.idle": "2021-07-08T07:21:06.641332Z",
     "shell.execute_reply": "2021-07-08T07:21:06.640850Z",
     "shell.execute_reply.started": "2021-07-08T07:20:17.152537Z"
    },
    "papermill": {
     "duration": 0.04146,
     "end_time": "2021-07-08T07:21:06.641494",
     "exception": false,
     "start_time": "2021-07-08T07:21:06.600034",
     "status": "completed"
    },
    "tags": []
   },
   "outputs": [
    {
     "data": {
      "text/plain": [
       "Temparature        0\n",
       "Humidity           0\n",
       "Moisture           0\n",
       "Soil Type          0\n",
       "Crop Type          0\n",
       "Nitrogen           0\n",
       "Potassium          0\n",
       "Phosphorous        0\n",
       "Fertilizer Name    0\n",
       "dtype: int64"
      ]
     },
     "execution_count": 7,
     "metadata": {},
     "output_type": "execute_result"
    }
   ],
   "source": [
    "df.isnull().sum()"
   ]
  },
  {
   "cell_type": "code",
   "execution_count": 8,
   "id": "09486115",
   "metadata": {
    "execution": {
     "iopub.execute_input": "2021-07-08T07:21:06.709373Z",
     "iopub.status.busy": "2021-07-08T07:21:06.708594Z",
     "iopub.status.idle": "2021-07-08T07:21:06.711692Z",
     "shell.execute_reply": "2021-07-08T07:21:06.712123Z",
     "shell.execute_reply.started": "2021-07-08T07:20:17.169354Z"
    },
    "papermill": {
     "duration": 0.0406,
     "end_time": "2021-07-08T07:21:06.712282",
     "exception": false,
     "start_time": "2021-07-08T07:21:06.671682",
     "status": "completed"
    },
    "tags": []
   },
   "outputs": [
    {
     "data": {
      "text/plain": [
       "['Soil Type', 'Crop Type', 'Fertilizer Name']"
      ]
     },
     "execution_count": 8,
     "metadata": {},
     "output_type": "execute_result"
    }
   ],
   "source": [
    "# check for categorical attributes\n",
    "cat_col = []\n",
    "for x in df.dtypes.index:\n",
    "    if df.dtypes[x] == 'object':\n",
    "        cat_col.append(x)\n",
    "cat_col"
   ]
  },
  {
   "cell_type": "code",
   "execution_count": 9,
   "id": "1c5cd396",
   "metadata": {
    "execution": {
     "iopub.execute_input": "2021-07-08T07:21:06.776398Z",
     "iopub.status.busy": "2021-07-08T07:21:06.775501Z",
     "iopub.status.idle": "2021-07-08T07:21:06.785923Z",
     "shell.execute_reply": "2021-07-08T07:21:06.785401Z",
     "shell.execute_reply.started": "2021-07-08T07:20:17.184394Z"
    },
    "papermill": {
     "duration": 0.043793,
     "end_time": "2021-07-08T07:21:06.786074",
     "exception": false,
     "start_time": "2021-07-08T07:21:06.742281",
     "status": "completed"
    },
    "tags": []
   },
   "outputs": [
    {
     "name": "stdout",
     "output_type": "stream",
     "text": [
      "Soil Type\n",
      "Loamy     21\n",
      "Sandy     20\n",
      "Clayey    20\n",
      "Red       19\n",
      "Black     19\n",
      "Name: Soil Type, dtype: int64\n",
      "\n",
      "Crop Type\n",
      "Sugarcane      13\n",
      "Cotton         12\n",
      "Millets        11\n",
      "Pulses         10\n",
      "Paddy          10\n",
      "Wheat           9\n",
      "Barley          7\n",
      "Oil seeds       7\n",
      "Tobacco         7\n",
      "Ground Nuts     7\n",
      "Maize           6\n",
      "Name: Crop Type, dtype: int64\n",
      "\n",
      "Fertilizer Name\n",
      "Urea        22\n",
      "DAP         18\n",
      "28-28       17\n",
      "20-20       14\n",
      "14-35-14    14\n",
      "10-26-26     7\n",
      "17-17-17     7\n",
      "Name: Fertilizer Name, dtype: int64\n",
      "\n"
     ]
    }
   ],
   "source": [
    "# print the categorical columns\n",
    "for col in cat_col:\n",
    "    print(col)\n",
    "    print(df[col].value_counts())\n",
    "    print()"
   ]
  },
  {
   "cell_type": "markdown",
   "id": "0b9bf0f1",
   "metadata": {
    "papermill": {
     "duration": 0.030505,
     "end_time": "2021-07-08T07:21:06.846801",
     "exception": false,
     "start_time": "2021-07-08T07:21:06.816296",
     "status": "completed"
    },
    "tags": []
   },
   "source": [
    "### Exploratory Data Analysis"
   ]
  },
  {
   "cell_type": "code",
   "execution_count": 10,
   "id": "6b36ea41",
   "metadata": {
    "execution": {
     "iopub.execute_input": "2021-07-08T07:21:06.914388Z",
     "iopub.status.busy": "2021-07-08T07:21:06.913797Z",
     "iopub.status.idle": "2021-07-08T07:21:07.086766Z",
     "shell.execute_reply": "2021-07-08T07:21:07.087316Z",
     "shell.execute_reply.started": "2021-07-08T07:20:17.203221Z"
    },
    "papermill": {
     "duration": 0.20969,
     "end_time": "2021-07-08T07:21:07.087501",
     "exception": false,
     "start_time": "2021-07-08T07:21:06.877811",
     "status": "completed"
    },
    "tags": []
   },
   "outputs": [
    {
     "data": {
      "text/plain": [
       "<AxesSubplot:xlabel='Soil Type', ylabel='count'>"
      ]
     },
     "execution_count": 10,
     "metadata": {},
     "output_type": "execute_result"
    },
    {
     "data": {
      "image/png": "[encoded data removed]",
      "text/plain": [
       "<Figure size 432x288 with 1 Axes>"
      ]
     },
     "metadata": {
      "needs_background": "light"
     },
     "output_type": "display_data"
    }
   ],
   "source": [
    "sns.countplot(df['Soil Type'])"
   ]
  },
  {
   "cell_type": "code",
   "execution_count": 11,
   "id": "5af6e9f7",
   "metadata": {
    "execution": {
     "iopub.execute_input": "2021-07-08T07:21:07.198662Z",
     "iopub.status.busy": "2021-07-08T07:21:07.197068Z",
     "iopub.status.idle": "2021-07-08T07:21:07.347393Z",
     "shell.execute_reply": "2021-07-08T07:21:07.346924Z",
     "shell.execute_reply.started": "2021-07-08T07:20:17.366755Z"
    },
    "papermill": {
     "duration": 0.228451,
     "end_time": "2021-07-08T07:21:07.347562",
     "exception": false,
     "start_time": "2021-07-08T07:21:07.119111",
     "status": "completed"
    },
    "tags": []
   },
   "outputs": [
    {
     "data": {
      "text/plain": [
       "<AxesSubplot:xlabel='Crop Type', ylabel='count'>"
      ]
     },
     "execution_count": 11,
     "metadata": {},
     "output_type": "execute_result"
    },
    {
     "data": {
      "image/png": "[encoded data removed]",
      "text/plain": [
       "<Figure size 432x288 with 1 Axes>"
      ]
     },
     "metadata": {
      "needs_background": "light"
     },
     "output_type": "display_data"
    }
   ],
   "source": [
    "plt.xticks(rotation=90)\n",
    "sns.countplot(df['Crop Type'])"
   ]
  },
  {
   "cell_type": "code",
   "execution_count": 12,
   "id": "63d5fa03",
   "metadata": {
    "execution": {
     "iopub.execute_input": "2021-07-08T07:21:07.431570Z",
     "iopub.status.busy": "2021-07-08T07:21:07.429608Z",
     "iopub.status.idle": "2021-07-08T07:21:07.562711Z",
     "shell.execute_reply": "2021-07-08T07:21:07.561694Z",
     "shell.execute_reply.started": "2021-07-08T07:20:17.564838Z"
    },
    "papermill": {
     "duration": 0.182686,
     "end_time": "2021-07-08T07:21:07.562860",
     "exception": false,
     "start_time": "2021-07-08T07:21:07.380174",
     "status": "completed"
    },
    "tags": []
   },
   "outputs": [
    {
     "data": {
      "text/plain": [
       "<AxesSubplot:xlabel='Fertilizer Name', ylabel='count'>"
      ]
     },
     "execution_count": 12,
     "metadata": {},
     "output_type": "execute_result"
    },
    {
     "data": {
      "image/png": "[encoded data removed]",
      "text/plain": [
       "<Figure size 432x288 with 1 Axes>"
      ]
     },
     "metadata": {
      "needs_background": "light"
     },
     "output_type": "display_data"
    }
   ],
   "source": [
    "plt.xticks(rotation=90)\n",
    "sns.countplot(df['Fertilizer Name'])"
   ]
  },
  {
   "cell_type": "code",
   "execution_count": 13,
   "id": "34cc3b72",
   "metadata": {},
   "outputs": [],
   "source": [
    "# Defining function for Continuous and Catogorical variable\n",
    "\n",
    "def plot_conti(x):\n",
    "    fig, axes = plt.subplots(nrows=1,ncols=3,figsize=(15,5),tight_layout=True)\n",
    "    axes[0].set_title('Distribution')\n",
    "    sns.distplot(x,ax=axes[0])\n",
    "    axes[1].set_title('Checking Outliers')\n",
    "    sns.boxplot(x,ax=axes[1])\n",
    "    axes[2].set_title('Relation with Output Variable')\n",
    "    sns.boxplot(y = x,x = df['Fertilizer Name'])\n",
    "    \n",
    "def plot_cato(x):\n",
    "    fig, axes = plt.subplots(nrows=1,ncols=2,figsize=(15,5),tight_layout=True)\n",
    "    axes[0].set_title('Count Plot')\n",
    "    sns.countplot(x,ax=axes[0])\n",
    "    axes[1].set_title('Relation with Output Variable')\n",
    "    sns.countplot(x = x,hue = df['Fertilizer Name'], ax=axes[1])"
   ]
  },
  {
   "cell_type": "code",
   "execution_count": 14,
   "id": "110a16d3",
   "metadata": {
    "execution": {
     "iopub.execute_input": "2021-07-08T07:21:14.013771Z",
     "iopub.status.busy": "2021-07-08T07:21:14.010788Z",
     "iopub.status.idle": "2021-07-08T07:21:14.653958Z",
     "shell.execute_reply": "2021-07-08T07:21:14.654430Z",
     "shell.execute_reply.started": "2021-07-08T07:20:23.381963Z"
    },
    "papermill": {
     "duration": 0.704423,
     "end_time": "2021-07-08T07:21:14.654627",
     "exception": false,
     "start_time": "2021-07-08T07:21:13.950204",
     "status": "completed"
    },
    "tags": []
   },
   "outputs": [
    {
     "data": {
      "image/png": "[encoded data removed]",
      "text/plain": [
       "<Figure size 1080x360 with 3 Axes>"
      ]
     },
     "metadata": {
      "needs_background": "light"
     },
     "output_type": "display_data"
    }
   ],
   "source": [
    "# EDA - Nitrogen variable\n",
    "plot_conti(df['Nitrogen'])"
   ]
  },
  {
   "cell_type": "code",
   "execution_count": 15,
   "id": "4ee19c80",
   "metadata": {
    "execution": {
     "iopub.execute_input": "2021-07-08T07:21:15.171191Z",
     "iopub.status.busy": "2021-07-08T07:21:15.170338Z",
     "iopub.status.idle": "2021-07-08T07:21:15.839252Z",
     "shell.execute_reply": "2021-07-08T07:21:15.839981Z",
     "shell.execute_reply.started": "2021-07-08T07:20:24.560651Z"
    },
    "papermill": {
     "duration": 0.737812,
     "end_time": "2021-07-08T07:21:15.840212",
     "exception": false,
     "start_time": "2021-07-08T07:21:15.102400",
     "status": "completed"
    },
    "tags": []
   },
   "outputs": [
    {
     "data": {
      "image/png": "[encoded data removed]",
      "text/plain": [
       "<Figure size 1080x360 with 3 Axes>"
      ]
     },
     "metadata": {
      "needs_background": "light"
     },
     "output_type": "display_data"
    }
   ],
   "source": [
    "# EDA - Potassium variable\n",
    "plot_conti(df['Potassium'])"
   ]
  },
  {
   "cell_type": "code",
   "execution_count": 16,
   "id": "4eb0b762",
   "metadata": {
    "execution": {
     "iopub.execute_input": "2021-07-08T07:21:15.939577Z",
     "iopub.status.busy": "2021-07-08T07:21:15.938664Z",
     "iopub.status.idle": "2021-07-08T07:21:16.688986Z",
     "shell.execute_reply": "2021-07-08T07:21:16.689430Z",
     "shell.execute_reply.started": "2021-07-08T07:20:25.225342Z"
    },
    "papermill": {
     "duration": 0.798927,
     "end_time": "2021-07-08T07:21:16.689612",
     "exception": false,
     "start_time": "2021-07-08T07:21:15.890685",
     "status": "completed"
    },
    "tags": []
   },
   "outputs": [
    {
     "data": {
      "image/png": "[encoded data removed]",
      "text/plain": [
       "<Figure size 1080x360 with 3 Axes>"
      ]
     },
     "metadata": {
      "needs_background": "light"
     },
     "output_type": "display_data"
    }
   ],
   "source": [
    "# EDA - Phosphorous variable\n",
    "plot_conti(df['Phosphorous'])"
   ]
  },
  {
   "cell_type": "markdown",
   "id": "7828abda",
   "metadata": {
    "papermill": {
     "duration": 0.046258,
     "end_time": "2021-07-08T07:21:16.782282",
     "exception": false,
     "start_time": "2021-07-08T07:21:16.736024",
     "status": "completed"
    },
    "tags": []
   },
   "source": [
    "## Correlation Matrix"
   ]
  },
  {
   "cell_type": "code",
   "execution_count": 17,
   "id": "6ade0d22",
   "metadata": {
    "execution": {
     "iopub.execute_input": "2021-07-08T07:21:16.879891Z",
     "iopub.status.busy": "2021-07-08T07:21:16.878927Z",
     "iopub.status.idle": "2021-07-08T07:21:17.379536Z",
     "shell.execute_reply": "2021-07-08T07:21:17.379018Z",
     "shell.execute_reply.started": "2021-07-08T07:20:25.857607Z"
    },
    "papermill": {
     "duration": 0.550019,
     "end_time": "2021-07-08T07:21:17.379683",
     "exception": false,
     "start_time": "2021-07-08T07:21:16.829664",
     "status": "completed"
    },
    "tags": []
   },
   "outputs": [
    {
     "data": {
      "text/plain": [
       "<AxesSubplot:>"
      ]
     },
     "execution_count": 17,
     "metadata": {},
     "output_type": "execute_result"
    },
    {
     "data": {
      "image/png": "[encoded data removed]",
      "text/plain": [
       "<Figure size 432x288 with 2 Axes>"
      ]
     },
     "metadata": {
      "needs_background": "light"
     },
     "output_type": "display_data"
    }
   ],
   "source": [
    "sns.heatmap(df.corr(), annot=True, cmap='coolwarm')"
   ]
  },
  {
   "cell_type": "markdown",
   "id": "5a736c86",
   "metadata": {
    "papermill": {
     "duration": 0.048127,
     "end_time": "2021-07-08T07:21:17.479018",
     "exception": false,
     "start_time": "2021-07-08T07:21:17.430891",
     "status": "completed"
    },
    "tags": []
   },
   "source": [
    "### Input split"
   ]
  },
  {
   "cell_type": "code",
   "execution_count": 18,
   "id": "28c56885",
   "metadata": {
    "execution": {
     "iopub.execute_input": "2021-07-08T07:21:17.582768Z",
     "iopub.status.busy": "2021-07-08T07:21:17.582152Z",
     "iopub.status.idle": "2021-07-08T07:21:17.586173Z",
     "shell.execute_reply": "2021-07-08T07:21:17.585610Z",
     "shell.execute_reply.started": "2021-07-08T07:20:26.360150Z"
    },
    "papermill": {
     "duration": 0.05842,
     "end_time": "2021-07-08T07:21:17.586307",
     "exception": false,
     "start_time": "2021-07-08T07:21:17.527887",
     "status": "completed"
    },
    "tags": []
   },
   "outputs": [
    {
     "data": {
      "text/plain": [
       "71"
      ]
     },
     "execution_count": 18,
     "metadata": {},
     "output_type": "execute_result"
    }
   ],
   "source": [
    "# Check the number of zeroes in a Column\n",
    "# Delete or Drop columns if zero values are more than 50%\n",
    "\n",
    "sum(df['Potassium'] == 0)"
   ]
  },
  {
   "cell_type": "code",
   "execution_count": 19,
   "id": "b2f2ba4e",
   "metadata": {
    "execution": {
     "iopub.execute_input": "2021-07-08T07:21:17.688828Z",
     "iopub.status.busy": "2021-07-08T07:21:17.688160Z",
     "iopub.status.idle": "2021-07-08T07:21:17.693160Z",
     "shell.execute_reply": "2021-07-08T07:21:17.693680Z",
     "shell.execute_reply.started": "2021-07-08T07:20:26.371195Z"
    },
    "papermill": {
     "duration": 0.057546,
     "end_time": "2021-07-08T07:21:17.693858",
     "exception": false,
     "start_time": "2021-07-08T07:21:17.636312",
     "status": "completed"
    },
    "tags": []
   },
   "outputs": [],
   "source": [
    "X = df.drop(columns = ['Fertilizer Name', 'Potassium', 'Temparature'], axis=1)\n",
    "y = df['Fertilizer Name']"
   ]
  },
  {
   "cell_type": "code",
   "execution_count": 20,
   "id": "568b8b56",
   "metadata": {},
   "outputs": [
    {
     "data": {
      "text/html": [
       "<div>\n",
       "<style scoped>\n",
       "    .dataframe tbody tr th:only-of-type {\n",
       "        vertical-align: middle;\n",
       "    }\n",
       "\n",
       "    .dataframe tbody tr th {\n",
       "        vertical-align: top;\n",
       "    }\n",
       "\n",
       "    .dataframe thead th {\n",
       "        text-align: right;\n",
       "    }\n",
       "</style>\n",
       "<table border=\"1\" class=\"dataframe\">\n",
       "  <thead>\n",
       "    <tr style=\"text-align: right;\">\n",
       "      <th></th>\n",
       "      <th>Temparature</th>\n",
       "      <th>Humidity</th>\n",
       "      <th>Moisture</th>\n",
       "      <th>Soil Type</th>\n",
       "      <th>Crop Type</th>\n",
       "      <th>Nitrogen</th>\n",
       "      <th>Potassium</th>\n",
       "      <th>Phosphorous</th>\n",
       "      <th>Fertilizer Name</th>\n",
       "    </tr>\n",
       "  </thead>\n",
       "  <tbody>\n",
       "    <tr>\n",
       "      <th>0</th>\n",
       "      <td>26</td>\n",
       "      <td>52</td>\n",
       "      <td>38</td>\n",
       "      <td>Sandy</td>\n",
       "      <td>Maize</td>\n",
       "      <td>37</td>\n",
       "      <td>0</td>\n",
       "      <td>0</td>\n",
       "      <td>Urea</td>\n",
       "    </tr>\n",
       "    <tr>\n",
       "      <th>1</th>\n",
       "      <td>29</td>\n",
       "      <td>52</td>\n",
       "      <td>45</td>\n",
       "      <td>Loamy</td>\n",
       "      <td>Sugarcane</td>\n",
       "      <td>12</td>\n",
       "      <td>0</td>\n",
       "      <td>36</td>\n",
       "      <td>DAP</td>\n",
       "    </tr>\n",
       "    <tr>\n",
       "      <th>2</th>\n",
       "      <td>34</td>\n",
       "      <td>65</td>\n",
       "      <td>62</td>\n",
       "      <td>Black</td>\n",
       "      <td>Cotton</td>\n",
       "      <td>7</td>\n",
       "      <td>9</td>\n",
       "      <td>30</td>\n",
       "      <td>14-35-14</td>\n",
       "    </tr>\n",
       "    <tr>\n",
       "      <th>3</th>\n",
       "      <td>32</td>\n",
       "      <td>62</td>\n",
       "      <td>34</td>\n",
       "      <td>Red</td>\n",
       "      <td>Tobacco</td>\n",
       "      <td>22</td>\n",
       "      <td>0</td>\n",
       "      <td>20</td>\n",
       "      <td>28-28</td>\n",
       "    </tr>\n",
       "    <tr>\n",
       "      <th>4</th>\n",
       "      <td>28</td>\n",
       "      <td>54</td>\n",
       "      <td>46</td>\n",
       "      <td>Clayey</td>\n",
       "      <td>Paddy</td>\n",
       "      <td>35</td>\n",
       "      <td>0</td>\n",
       "      <td>0</td>\n",
       "      <td>Urea</td>\n",
       "    </tr>\n",
       "  </tbody>\n",
       "</table>\n",
       "</div>"
      ],
      "text/plain": [
       "   Temparature  Humidity   Moisture Soil Type  Crop Type  Nitrogen  Potassium  \\\n",
       "0           26         52        38     Sandy      Maize        37          0   \n",
       "1           29         52        45     Loamy  Sugarcane        12          0   \n",
       "2           34         65        62     Black     Cotton         7          9   \n",
       "3           32         62        34       Red    Tobacco        22          0   \n",
       "4           28         54        46    Clayey      Paddy        35          0   \n",
       "\n",
       "   Phosphorous Fertilizer Name  \n",
       "0            0            Urea  \n",
       "1           36             DAP  \n",
       "2           30        14-35-14  \n",
       "3           20           28-28  \n",
       "4            0            Urea  "
      ]
     },
     "execution_count": 20,
     "metadata": {},
     "output_type": "execute_result"
    }
   ],
   "source": [
    "df.head()"
   ]
  },
  {
   "cell_type": "markdown",
   "id": "38449ad2",
   "metadata": {
    "papermill": {
     "duration": 0.049885,
     "end_time": "2021-07-08T07:21:17.792610",
     "exception": false,
     "start_time": "2021-07-08T07:21:17.742725",
     "status": "completed"
    },
    "tags": []
   },
   "source": [
    "### Encoding Categorical Data\n",
    "\n",
    "* Independent Variable\n",
    "  - OneHotEncoder\n",
    "\n",
    "* Dependent Variable\n",
    "  - LebelEncoder"
   ]
  },
  {
   "cell_type": "code",
   "execution_count": 21,
   "id": "32638ec0",
   "metadata": {
    "execution": {
     "iopub.execute_input": "2021-07-08T07:21:17.893109Z",
     "iopub.status.busy": "2021-07-08T07:21:17.892504Z",
     "iopub.status.idle": "2021-07-08T07:21:18.040945Z",
     "shell.execute_reply": "2021-07-08T07:21:18.040331Z",
     "shell.execute_reply.started": "2021-07-08T07:20:26.387612Z"
    },
    "papermill": {
     "duration": 0.199583,
     "end_time": "2021-07-08T07:21:18.041089",
     "exception": false,
     "start_time": "2021-07-08T07:21:17.841506",
     "status": "completed"
    },
    "tags": []
   },
   "outputs": [],
   "source": [
    "from sklearn.compose import ColumnTransformer\n",
    "from sklearn.preprocessing import OneHotEncoder\n",
    "ct = ColumnTransformer(transformers=[('encoder', OneHotEncoder(), [2,3])], remainder='passthrough')\n",
    "X = np.array(ct.fit_transform(X))"
   ]
  },
  {
   "cell_type": "code",
   "execution_count": 22,
   "id": "146e62f4",
   "metadata": {
    "execution": {
     "iopub.execute_input": "2021-07-08T07:21:18.146824Z",
     "iopub.status.busy": "2021-07-08T07:21:18.146186Z",
     "iopub.status.idle": "2021-07-08T07:21:18.149209Z",
     "shell.execute_reply": "2021-07-08T07:21:18.149618Z",
     "shell.execute_reply.started": "2021-07-08T07:20:26.417749Z"
    },
    "papermill": {
     "duration": 0.058432,
     "end_time": "2021-07-08T07:21:18.149784",
     "exception": false,
     "start_time": "2021-07-08T07:21:18.091352",
     "status": "completed"
    },
    "tags": []
   },
   "outputs": [
    {
     "data": {
      "text/plain": [
       "(99, 20)"
      ]
     },
     "execution_count": 22,
     "metadata": {},
     "output_type": "execute_result"
    }
   ],
   "source": [
    "X.shape"
   ]
  },
  {
   "cell_type": "markdown",
   "id": "a3e477f6",
   "metadata": {
    "papermill": {
     "duration": 0.049218,
     "end_time": "2021-07-08T07:21:18.248505",
     "exception": false,
     "start_time": "2021-07-08T07:21:18.199287",
     "status": "completed"
    },
    "tags": []
   },
   "source": [
    "### Splitting the dataset into the Training set and Test set"
   ]
  },
  {
   "cell_type": "code",
   "execution_count": 23,
   "id": "87f4e649",
   "metadata": {
    "execution": {
     "iopub.execute_input": "2021-07-08T07:21:18.353292Z",
     "iopub.status.busy": "2021-07-08T07:21:18.351993Z",
     "iopub.status.idle": "2021-07-08T07:21:18.405231Z",
     "shell.execute_reply": "2021-07-08T07:21:18.404700Z",
     "shell.execute_reply.started": "2021-07-08T07:20:26.434089Z"
    },
    "papermill": {
     "duration": 0.107119,
     "end_time": "2021-07-08T07:21:18.405368",
     "exception": false,
     "start_time": "2021-07-08T07:21:18.298249",
     "status": "completed"
    },
    "tags": []
   },
   "outputs": [],
   "source": [
    "from sklearn.model_selection import train_test_split\n",
    "X_train, X_test, y_train, y_test = train_test_split(X, y, test_size = 0.2, random_state = 0)"
   ]
  },
  {
   "cell_type": "code",
   "execution_count": 24,
   "id": "36a11006",
   "metadata": {
    "execution": {
     "iopub.execute_input": "2021-07-08T07:21:18.509203Z",
     "iopub.status.busy": "2021-07-08T07:21:18.508391Z",
     "iopub.status.idle": "2021-07-08T07:21:18.511449Z",
     "shell.execute_reply": "2021-07-08T07:21:18.510826Z",
     "shell.execute_reply.started": "2021-07-08T07:20:26.449807Z"
    },
    "papermill": {
     "duration": 0.056098,
     "end_time": "2021-07-08T07:21:18.511603",
     "exception": false,
     "start_time": "2021-07-08T07:21:18.455505",
     "status": "completed"
    },
    "tags": []
   },
   "outputs": [],
   "source": [
    "# Initializing empty lists to append all model's name and corresponding name\n",
    "accuracy = []\n",
    "model = []"
   ]
  },
  {
   "cell_type": "markdown",
   "id": "a3c5f1bd",
   "metadata": {
    "papermill": {
     "duration": 0.048573,
     "end_time": "2021-07-08T07:21:18.609366",
     "exception": false,
     "start_time": "2021-07-08T07:21:18.560793",
     "status": "completed"
    },
    "tags": []
   },
   "source": [
    "### Training the Model on the Training set"
   ]
  },
  {
   "cell_type": "markdown",
   "id": "107f2269",
   "metadata": {
    "papermill": {
     "duration": 0.048831,
     "end_time": "2021-07-08T07:21:18.707074",
     "exception": false,
     "start_time": "2021-07-08T07:21:18.658243",
     "status": "completed"
    },
    "tags": []
   },
   "source": [
    "## K - Nearest Neighbors"
   ]
  },
  {
   "cell_type": "code",
   "execution_count": 25,
   "id": "9519bfc8",
   "metadata": {
    "execution": {
     "iopub.execute_input": "2021-07-08T07:21:18.808038Z",
     "iopub.status.busy": "2021-07-08T07:21:18.807350Z",
     "iopub.status.idle": "2021-07-08T07:21:19.000955Z",
     "shell.execute_reply": "2021-07-08T07:21:19.000341Z",
     "shell.execute_reply.started": "2021-07-08T07:20:26.463606Z"
    },
    "papermill": {
     "duration": 0.244977,
     "end_time": "2021-07-08T07:21:19.001109",
     "exception": false,
     "start_time": "2021-07-08T07:21:18.756132",
     "status": "completed"
    },
    "tags": []
   },
   "outputs": [],
   "source": [
    "# Feature Scaling\n",
    "from sklearn.preprocessing import StandardScaler\n",
    "sc = StandardScaler()\n",
    "X_train_knn = sc.fit_transform(X_train[:, 16:])\n",
    "X_test_knn = sc.transform(X_test[:, 16:])\n",
    "\n",
    "from sklearn.neighbors import KNeighborsClassifier\n",
    "classifier = KNeighborsClassifier(n_neighbors=10)\n",
    "classifier.fit(X_train_knn, y_train)\n",
    "\n",
    "# Predicting the Test set results\n",
    "y_pred = classifier.predict(X_test_knn)\n"
   ]
  },
  {
   "cell_type": "code",
   "execution_count": 26,
   "id": "30ee0695",
   "metadata": {},
   "outputs": [
    {
     "name": "stdout",
     "output_type": "stream",
     "text": [
      "K-Nearest Neighbours's Accuracy :\n",
      " 0.75\n"
     ]
    }
   ],
   "source": [
    "# accuracy of k-nn model\n",
    "from sklearn.metrics import accuracy_score\n",
    "acc1 = accuracy_score(y_test, y_pred)\n",
    "accuracy.append(acc1)\n",
    "model.append('K-Nearest Neighbors')\n",
    "print(\"K-Nearest Neighbours's Accuracy :\\n\", acc1)"
   ]
  },
  {
   "cell_type": "code",
   "execution_count": 27,
   "id": "bdca969f",
   "metadata": {},
   "outputs": [
    {
     "name": "stdout",
     "output_type": "stream",
     "text": [
      "Cross-Validation Score:\n",
      " [0.85       0.85       0.8        0.65       0.52631579]\n"
     ]
    }
   ],
   "source": [
    "# Cross validation score\n",
    "from sklearn.model_selection import cross_val_score\n",
    "score = cross_val_score(classifier, X, y, cv=5)\n",
    "print(\"Cross-Validation Score:\\n\", score)"
   ]
  },
  {
   "cell_type": "code",
   "execution_count": 28,
   "id": "b6954837",
   "metadata": {},
   "outputs": [
    {
     "name": "stdout",
     "output_type": "stream",
     "text": [
      "              precision    recall  f1-score   support\n",
      "\n",
      "    10-26-26       0.00      0.00      0.00         3\n",
      "    14-35-14       1.00      0.50      0.67         4\n",
      "    17-17-17       0.50      1.00      0.67         1\n",
      "       20-20       0.25      1.00      0.40         1\n",
      "       28-28       1.00      1.00      1.00         5\n",
      "         DAP       0.67      1.00      0.80         2\n",
      "        Urea       1.00      1.00      1.00         4\n",
      "\n",
      "    accuracy                           0.75        20\n",
      "   macro avg       0.63      0.79      0.65        20\n",
      "weighted avg       0.75      0.75      0.72        20\n",
      "\n"
     ]
    }
   ],
   "source": [
    "# Classification Report\n",
    "from sklearn.metrics import classification_report\n",
    "print(classification_report(y_test, y_pred))"
   ]
  },
  {
   "cell_type": "markdown",
   "id": "3bdf159f",
   "metadata": {
    "papermill": {
     "duration": 0.04992,
     "end_time": "2021-07-08T07:21:19.101539",
     "exception": false,
     "start_time": "2021-07-08T07:21:19.051619",
     "status": "completed"
    },
    "tags": []
   },
   "source": [
    "## Kernel SVM"
   ]
  },
  {
   "cell_type": "code",
   "execution_count": 29,
   "id": "6abfd9d5",
   "metadata": {
    "execution": {
     "iopub.execute_input": "2021-07-08T07:21:19.209341Z",
     "iopub.status.busy": "2021-07-08T07:21:19.208353Z",
     "iopub.status.idle": "2021-07-08T07:21:19.238695Z",
     "shell.execute_reply": "2021-07-08T07:21:19.239137Z",
     "shell.execute_reply.started": "2021-07-08T07:20:26.509111Z"
    },
    "papermill": {
     "duration": 0.088234,
     "end_time": "2021-07-08T07:21:19.239328",
     "exception": false,
     "start_time": "2021-07-08T07:21:19.151094",
     "status": "completed"
    },
    "tags": []
   },
   "outputs": [],
   "source": [
    "from sklearn.svm import SVC\n",
    "classifier = SVC(kernel = 'rbf', random_state = 0)\n",
    "classifier.fit(X_train, y_train)\n",
    "\n",
    "# Predicting the Test set results\n",
    "y_pred = classifier.predict(X_test)\n",
    "\n",
    "# # Making the Confusion Matrix and Calculating the Accuracy\n",
    "# from sklearn.metrics import confusion_matrix, accuracy_score\n",
    "# cm = confusion_matrix(y_test, y_pred)\n",
    "# print(\"\\n\",cm)"
   ]
  },
  {
   "cell_type": "code",
   "execution_count": 30,
   "id": "63d0b3d9",
   "metadata": {},
   "outputs": [
    {
     "name": "stdout",
     "output_type": "stream",
     "text": [
      "Kernel SVM's Accuracy :\n",
      " 0.55\n"
     ]
    }
   ],
   "source": [
    "# accuracy of SVM model\n",
    "from sklearn.metrics import accuracy_score\n",
    "acc2 = accuracy_score(y_test, y_pred)\n",
    "accuracy.append(acc2)\n",
    "model.append('Kernel SVM')\n",
    "print(\"Kernel SVM's Accuracy :\\n\", acc2)"
   ]
  },
  {
   "cell_type": "code",
   "execution_count": 31,
   "id": "6c6afe14",
   "metadata": {},
   "outputs": [
    {
     "name": "stdout",
     "output_type": "stream",
     "text": [
      "Cross-Validation Score:\n",
      " [0.7        0.55       0.55       0.65       0.47368421]\n"
     ]
    }
   ],
   "source": [
    "# Cross validation score\n",
    "from sklearn.model_selection import cross_val_score\n",
    "score = cross_val_score(classifier, X, y, cv=5)\n",
    "print(\"Cross-Validation Score:\\n\", score)"
   ]
  },
  {
   "cell_type": "code",
   "execution_count": 32,
   "id": "7e718b11",
   "metadata": {},
   "outputs": [
    {
     "name": "stdout",
     "output_type": "stream",
     "text": [
      "              precision    recall  f1-score   support\n",
      "\n",
      "    10-26-26       0.00      0.00      0.00         3\n",
      "    14-35-14       0.00      0.00      0.00         4\n",
      "    17-17-17       0.00      0.00      0.00         1\n",
      "       20-20       0.14      1.00      0.25         1\n",
      "       28-28       1.00      0.80      0.89         5\n",
      "         DAP       0.40      1.00      0.57         2\n",
      "        Urea       1.00      1.00      1.00         4\n",
      "\n",
      "    accuracy                           0.55        20\n",
      "   macro avg       0.36      0.54      0.39        20\n",
      "weighted avg       0.50      0.55      0.49        20\n",
      "\n"
     ]
    }
   ],
   "source": [
    "# Classification Report\n",
    "from sklearn.metrics import classification_report\n",
    "print(classification_report(y_test, y_pred))"
   ]
  },
  {
   "cell_type": "markdown",
   "id": "3d5b172c",
   "metadata": {
    "papermill": {
     "duration": 0.050876,
     "end_time": "2021-07-08T07:21:19.580892",
     "exception": false,
     "start_time": "2021-07-08T07:21:19.530016",
     "status": "completed"
    },
    "tags": []
   },
   "source": [
    "## Decision Tree Classification"
   ]
  },
  {
   "cell_type": "code",
   "execution_count": 33,
   "id": "b2bcb6c6",
   "metadata": {
    "execution": {
     "iopub.execute_input": "2021-07-08T07:21:19.689018Z",
     "iopub.status.busy": "2021-07-08T07:21:19.688225Z",
     "iopub.status.idle": "2021-07-08T07:21:19.743459Z",
     "shell.execute_reply": "2021-07-08T07:21:19.744202Z",
     "shell.execute_reply.started": "2021-07-08T07:20:26.579611Z"
    },
    "papermill": {
     "duration": 0.113063,
     "end_time": "2021-07-08T07:21:19.744434",
     "exception": false,
     "start_time": "2021-07-08T07:21:19.631371",
     "status": "completed"
    },
    "tags": []
   },
   "outputs": [],
   "source": [
    "from sklearn.tree import DecisionTreeClassifier\n",
    "classifier = DecisionTreeClassifier(criterion = 'entropy', random_state = 0)\n",
    "classifier.fit(X_train, y_train)\n",
    "\n",
    "# Predicting the Test set results\n",
    "y_pred = classifier.predict(X_test)"
   ]
  },
  {
   "cell_type": "code",
   "execution_count": 34,
   "id": "31e31af2",
   "metadata": {},
   "outputs": [
    {
     "name": "stdout",
     "output_type": "stream",
     "text": [
      "Decision Tree Classification's Accuracy :\n",
      " 0.85\n"
     ]
    }
   ],
   "source": [
    "# accuracy of DT model\n",
    "from sklearn.metrics import accuracy_score\n",
    "acc4 = accuracy_score(y_test, y_pred)\n",
    "accuracy.append(acc4)\n",
    "model.append('Decision Tree Classification')\n",
    "print(\"Decision Tree Classification's Accuracy :\\n\", acc4)"
   ]
  },
  {
   "cell_type": "code",
   "execution_count": 35,
   "id": "69ce186a",
   "metadata": {},
   "outputs": [
    {
     "name": "stdout",
     "output_type": "stream",
     "text": [
      "Cross-Validation Score:\n",
      " [0.85       0.85       0.8        0.85       0.94736842]\n"
     ]
    }
   ],
   "source": [
    "# Cross validation score\n",
    "from sklearn.model_selection import cross_val_score\n",
    "score = cross_val_score(classifier, X, y, cv=5)\n",
    "print(\"Cross-Validation Score:\\n\", score)"
   ]
  },
  {
   "cell_type": "code",
   "execution_count": 36,
   "id": "5539f27f",
   "metadata": {},
   "outputs": [
    {
     "name": "stdout",
     "output_type": "stream",
     "text": [
      "              precision    recall  f1-score   support\n",
      "\n",
      "    10-26-26       0.67      0.67      0.67         3\n",
      "    14-35-14       1.00      0.75      0.86         4\n",
      "    17-17-17       0.00      0.00      0.00         1\n",
      "       20-20       0.33      1.00      0.50         1\n",
      "       28-28       1.00      1.00      1.00         5\n",
      "         DAP       1.00      1.00      1.00         2\n",
      "        Urea       1.00      1.00      1.00         4\n",
      "\n",
      "    accuracy                           0.85        20\n",
      "   macro avg       0.71      0.77      0.72        20\n",
      "weighted avg       0.87      0.85      0.85        20\n",
      "\n"
     ]
    }
   ],
   "source": [
    "# Classification Report\n",
    "from sklearn.metrics import classification_report\n",
    "print(classification_report(y_test, y_pred))"
   ]
  },
  {
   "cell_type": "markdown",
   "id": "c515ba55",
   "metadata": {
    "papermill": {
     "duration": 0.050524,
     "end_time": "2021-07-08T07:21:19.845413",
     "exception": false,
     "start_time": "2021-07-08T07:21:19.794889",
     "status": "completed"
    },
    "tags": []
   },
   "source": [
    "## Random Forest Classification"
   ]
  },
  {
   "cell_type": "code",
   "execution_count": 37,
   "id": "899ef072",
   "metadata": {
    "execution": {
     "iopub.execute_input": "2021-07-08T07:21:19.953520Z",
     "iopub.status.busy": "2021-07-08T07:21:19.952902Z",
     "iopub.status.idle": "2021-07-08T07:21:20.833218Z",
     "shell.execute_reply": "2021-07-08T07:21:20.832762Z",
     "shell.execute_reply.started": "2021-07-08T07:20:26.610901Z"
    },
    "papermill": {
     "duration": 0.937597,
     "end_time": "2021-07-08T07:21:20.833358",
     "exception": false,
     "start_time": "2021-07-08T07:21:19.895761",
     "status": "completed"
    },
    "tags": []
   },
   "outputs": [],
   "source": [
    "from sklearn.ensemble import RandomForestClassifier\n",
    "classifier = RandomForestClassifier(n_estimators= 100, criterion = 'gini' , random_state= 42)\n",
    "classifier.fit(X_train, y_train)\n",
    "\n",
    "# Predicting the test set results\n",
    "y_pred = classifier.predict(X_test)"
   ]
  },
  {
   "cell_type": "code",
   "execution_count": 38,
   "id": "e07b105e",
   "metadata": {},
   "outputs": [
    {
     "name": "stdout",
     "output_type": "stream",
     "text": [
      "Random Forest Classification's Accuracy:\n",
      " 0.9\n"
     ]
    }
   ],
   "source": [
    "# accuracy of RF model \n",
    "from sklearn.metrics import accuracy_score\n",
    "acc5 = accuracy_score(y_test, y_pred)\n",
    "accuracy.append(acc5)\n",
    "model.append('Random Forest Classification')\n",
    "print(\"Random Forest Classification's Accuracy:\\n\", acc5)"
   ]
  },
  {
   "cell_type": "code",
   "execution_count": 39,
   "id": "5eccdfd5",
   "metadata": {},
   "outputs": [
    {
     "name": "stdout",
     "output_type": "stream",
     "text": [
      "Cross-Validation Score: [0.85       0.85       0.9        0.75       0.84210526]\n"
     ]
    }
   ],
   "source": [
    "# Cross validation score\n",
    "from sklearn.model_selection import cross_val_score\n",
    "score = cross_val_score(classifier, X, y, cv=5)\n",
    "print(\"Cross-Validation Score:\", score)"
   ]
  },
  {
   "cell_type": "code",
   "execution_count": 40,
   "id": "eda3ed3e",
   "metadata": {},
   "outputs": [
    {
     "name": "stdout",
     "output_type": "stream",
     "text": [
      "              precision    recall  f1-score   support\n",
      "\n",
      "    10-26-26       1.00      0.67      0.80         3\n",
      "    14-35-14       0.80      1.00      0.89         4\n",
      "    17-17-17       0.00      0.00      0.00         1\n",
      "       20-20       0.50      1.00      0.67         1\n",
      "       28-28       1.00      1.00      1.00         5\n",
      "         DAP       1.00      1.00      1.00         2\n",
      "        Urea       1.00      1.00      1.00         4\n",
      "\n",
      "    accuracy                           0.90        20\n",
      "   macro avg       0.76      0.81      0.77        20\n",
      "weighted avg       0.89      0.90      0.88        20\n",
      "\n"
     ]
    }
   ],
   "source": [
    "# Classification Report\n",
    "from sklearn.metrics import classification_report\n",
    "print(classification_report(y_test, y_pred))"
   ]
  },
  {
   "cell_type": "markdown",
   "id": "9f0ccf8f",
   "metadata": {
    "papermill": {
     "duration": 0.050268,
     "end_time": "2021-07-08T07:21:20.934089",
     "exception": false,
     "start_time": "2021-07-08T07:21:20.883821",
     "status": "completed"
    },
    "tags": []
   },
   "source": [
    "## Model Accuracy"
   ]
  },
  {
   "cell_type": "code",
   "execution_count": 41,
   "id": "506cfb49",
   "metadata": {
    "execution": {
     "iopub.execute_input": "2021-07-08T07:21:21.065307Z",
     "iopub.status.busy": "2021-07-08T07:21:21.056252Z",
     "iopub.status.idle": "2021-07-08T07:21:21.188203Z",
     "shell.execute_reply": "2021-07-08T07:21:21.187755Z",
     "shell.execute_reply.started": "2021-07-08T07:20:27.491621Z"
    },
    "papermill": {
     "duration": 0.203884,
     "end_time": "2021-07-08T07:21:21.188348",
     "exception": false,
     "start_time": "2021-07-08T07:21:20.984464",
     "status": "completed"
    },
    "tags": []
   },
   "outputs": [
    {
     "data": {
      "text/plain": [
       "<AxesSubplot:>"
      ]
     },
     "execution_count": 41,
     "metadata": {},
     "output_type": "execute_result"
    },
    {
     "data": {
      "image/png": "[encoded data removed]",
      "text/plain": [
       "<Figure size 432x288 with 1 Axes>"
      ]
     },
     "metadata": {
      "needs_background": "light"
     },
     "output_type": "display_data"
    }
   ],
   "source": [
    "plt.xticks(rotation=90)\n",
    "sns.barplot(x = model, y = accuracy, palette ='dark')"
   ]
  },
  {
   "cell_type": "code",
   "execution_count": 42,
   "id": "c6fdfa58",
   "metadata": {},
   "outputs": [
    {
     "data": {
      "text/html": [
       "<div>\n",
       "<style scoped>\n",
       "    .dataframe tbody tr th:only-of-type {\n",
       "        vertical-align: middle;\n",
       "    }\n",
       "\n",
       "    .dataframe tbody tr th {\n",
       "        vertical-align: top;\n",
       "    }\n",
       "\n",
       "    .dataframe thead th {\n",
       "        text-align: right;\n",
       "    }\n",
       "</style>\n",
       "<table border=\"1\" class=\"dataframe\">\n",
       "  <thead>\n",
       "    <tr style=\"text-align: right;\">\n",
       "      <th></th>\n",
       "      <th>Temparature</th>\n",
       "      <th>Humidity</th>\n",
       "      <th>Moisture</th>\n",
       "      <th>Soil Type</th>\n",
       "      <th>Crop Type</th>\n",
       "      <th>Nitrogen</th>\n",
       "      <th>Potassium</th>\n",
       "      <th>Phosphorous</th>\n",
       "      <th>Fertilizer Name</th>\n",
       "    </tr>\n",
       "  </thead>\n",
       "  <tbody>\n",
       "    <tr>\n",
       "      <th>0</th>\n",
       "      <td>26</td>\n",
       "      <td>52</td>\n",
       "      <td>38</td>\n",
       "      <td>Sandy</td>\n",
       "      <td>Maize</td>\n",
       "      <td>37</td>\n",
       "      <td>0</td>\n",
       "      <td>0</td>\n",
       "      <td>Urea</td>\n",
       "    </tr>\n",
       "    <tr>\n",
       "      <th>1</th>\n",
       "      <td>29</td>\n",
       "      <td>52</td>\n",
       "      <td>45</td>\n",
       "      <td>Loamy</td>\n",
       "      <td>Sugarcane</td>\n",
       "      <td>12</td>\n",
       "      <td>0</td>\n",
       "      <td>36</td>\n",
       "      <td>DAP</td>\n",
       "    </tr>\n",
       "    <tr>\n",
       "      <th>2</th>\n",
       "      <td>34</td>\n",
       "      <td>65</td>\n",
       "      <td>62</td>\n",
       "      <td>Black</td>\n",
       "      <td>Cotton</td>\n",
       "      <td>7</td>\n",
       "      <td>9</td>\n",
       "      <td>30</td>\n",
       "      <td>14-35-14</td>\n",
       "    </tr>\n",
       "    <tr>\n",
       "      <th>3</th>\n",
       "      <td>32</td>\n",
       "      <td>62</td>\n",
       "      <td>34</td>\n",
       "      <td>Red</td>\n",
       "      <td>Tobacco</td>\n",
       "      <td>22</td>\n",
       "      <td>0</td>\n",
       "      <td>20</td>\n",
       "      <td>28-28</td>\n",
       "    </tr>\n",
       "    <tr>\n",
       "      <th>4</th>\n",
       "      <td>28</td>\n",
       "      <td>54</td>\n",
       "      <td>46</td>\n",
       "      <td>Clayey</td>\n",
       "      <td>Paddy</td>\n",
       "      <td>35</td>\n",
       "      <td>0</td>\n",
       "      <td>0</td>\n",
       "      <td>Urea</td>\n",
       "    </tr>\n",
       "  </tbody>\n",
       "</table>\n",
       "</div>"
      ],
      "text/plain": [
       "   Temparature  Humidity   Moisture Soil Type  Crop Type  Nitrogen  Potassium  \\\n",
       "0           26         52        38     Sandy      Maize        37          0   \n",
       "1           29         52        45     Loamy  Sugarcane        12          0   \n",
       "2           34         65        62     Black     Cotton         7          9   \n",
       "3           32         62        34       Red    Tobacco        22          0   \n",
       "4           28         54        46    Clayey      Paddy        35          0   \n",
       "\n",
       "   Phosphorous Fertilizer Name  \n",
       "0            0            Urea  \n",
       "1           36             DAP  \n",
       "2           30        14-35-14  \n",
       "3           20           28-28  \n",
       "4            0            Urea  "
      ]
     },
     "execution_count": 42,
     "metadata": {},
     "output_type": "execute_result"
    }
   ],
   "source": [
    "df.head()"
   ]
  },
  {
   "cell_type": "markdown",
   "id": "a570289e",
   "metadata": {},
   "source": [
    "## Prediction "
   ]
  },
  {
   "cell_type": "code",
   "execution_count": 43,
   "id": "85b0fc1a",
   "metadata": {},
   "outputs": [],
   "source": [
    "# # Predicting the test set results\n",
    "# y_pred = classifier.predict(X_test)\n",
    "# print(\"prediction is here:\", y_pred[6])"
   ]
  },
  {
   "cell_type": "code",
   "execution_count": null,
   "id": "8f9bd98a",
   "metadata": {},
   "outputs": [],
   "source": []
  },
  {
   "cell_type": "code",
   "execution_count": null,
   "id": "68f1fa0a",
   "metadata": {},
   "outputs": [],
   "source": []
  }
 ],
 "metadata": {
  "kernelspec": {
   "display_name": "Python 3",
   "language": "python",
   "name": "python3"
  },
  "language_info": {
   "codemirror_mode": {
    "name": "ipython",
    "version": 3
   },
   "file_extension": ".py",
   "mimetype": "text/x-python",
   "name": "python",
   "nbconvert_exporter": "python",
   "pygments_lexer": "ipython3",
   "version": "3.8.8"
  },
  "papermill": {
   "default_parameters": {},
   "duration": 24.467616,
   "end_time": "2021-07-08T07:21:22.049425",
   "environment_variables": {},
   "exception": null,
   "input_path": "__notebook__.ipynb",
   "output_path": "__notebook__.ipynb",
   "parameters": {},
   "start_time": "2021-07-08T07:20:57.581809",
   "version": "2.3.3"
  }
 },
 "nbformat": 4,
 "nbformat_minor": 5
}
